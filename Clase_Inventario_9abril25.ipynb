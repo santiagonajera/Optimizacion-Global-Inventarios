{
  "nbformat": 4,
  "nbformat_minor": 0,
  "metadata": {
    "colab": {
      "provenance": [],
      "authorship_tag": "ABX9TyPb5KkFG0OpbjRLQ4j7b02N",
      "include_colab_link": true
    },
    "kernelspec": {
      "name": "python3",
      "display_name": "Python 3"
    },
    "language_info": {
      "name": "python"
    }
  },
  "cells": [
    {
      "cell_type": "markdown",
      "metadata": {
        "id": "view-in-github",
        "colab_type": "text"
      },
      "source": [
        "<a href=\"https://colab.research.google.com/github/santiagonajera/Optimizacion-Global-Inventarios/blob/main/Clase_Inventario_9abril25.ipynb\" target=\"_parent\"><img src=\"https://colab.research.google.com/assets/colab-badge.svg\" alt=\"Open In Colab\"/></a>"
      ]
    },
    {
      "cell_type": "code",
      "execution_count": 1,
      "metadata": {
        "colab": {
          "base_uri": "https://localhost:8080/"
        },
        "id": "-RH2CxGSIx1_",
        "outputId": "76fac9b0-b83e-425b-e440-999764b9b852"
      },
      "outputs": [
        {
          "output_type": "stream",
          "name": "stdout",
          "text": [
            "Los últimos 18 valores son:\n",
            "2023-10-01 00:00:00    24102\n",
            "2023-11-01 00:00:00    45453\n",
            "2023-12-01 00:00:00    26662\n",
            "2024-01-01 00:00:00    29429\n",
            "2024-02-01 00:00:00    26082\n",
            "2024-03-01 00:00:00    28370\n",
            "2024-04-01 00:00:00    32154\n",
            "2024-05-01 00:00:00    31267\n",
            "2024-06-01 00:00:00    30460\n",
            "2024-07-01 00:00:00    30684\n",
            "2024-08-01 00:00:00    25982\n",
            "2024-09-01 00:00:00    27429\n",
            "2024-10-01 00:00:00    24625\n",
            "2024-11-01 00:00:00    46403\n",
            "2024-12-01 00:00:00    29200\n",
            "2025-01-01 00:00:00    31911\n",
            "2025-02-01 00:00:00    28544\n",
            "2025-03-01 00:00:00    31113\n",
            "Name: 0, dtype: int64\n",
            "\n",
            "El promedio de los últimos 18 meses es: 30548.33\n"
          ]
        }
      ],
      "source": [
        "import pandas as pd\n",
        "import numpy as np\n",
        "from io import BytesIO\n",
        "import requests\n",
        "\n",
        "# Descargar el archivo Excel desde GitHub\n",
        "url = \"https://github.com/santiagonajera/Optimizacion-Global-Inventarios/raw/refs/heads/main/Clases-ecotec.xlsx\"\n",
        "response = requests.get(url)\n",
        "excel_file = BytesIO(response.content)\n",
        "\n",
        "# Leer la hoja \"Historico\"\n",
        "df = pd.read_excel(excel_file, sheet_name=\"Historico\")\n",
        "\n",
        "# Seleccionar la fila 2 (ITEM 1) - asumiendo que la primera fila es el encabezado\n",
        "# Saltamos la primera fila (encabezado) y tomamos la segunda fila (índice 0 en Python)\n",
        "fila_datos = df.iloc[0, 1:]  # Excluimos la columna ITEM\n",
        "\n",
        "# Convertir a valores numéricos y eliminar posibles NaN\n",
        "valores = pd.to_numeric(fila_datos, errors='coerce').dropna()\n",
        "\n",
        "# Tomar los últimos 18 valores\n",
        "ultimos_18 = valores[-18:]\n",
        "\n",
        "# Calcular el promedio\n",
        "promedio = np.mean(ultimos_18)\n",
        "\n",
        "print(\"Los últimos 18 valores son:\")\n",
        "print(ultimos_18)\n",
        "print(f\"\\nEl promedio de los últimos 18 meses es: {promedio:.2f}\")"
      ]
    }
  ]
}
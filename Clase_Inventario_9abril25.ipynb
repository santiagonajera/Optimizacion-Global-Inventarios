{
  "nbformat": 4,
  "nbformat_minor": 0,
  "metadata": {
    "colab": {
      "provenance": [],
      "authorship_tag": "ABX9TyMBC+h8/hOmrVqnl2GBYiV8",
      "include_colab_link": true
    },
    "kernelspec": {
      "name": "python3",
      "display_name": "Python 3"
    },
    "language_info": {
      "name": "python"
    }
  },
  "cells": [
    {
      "cell_type": "markdown",
      "metadata": {
        "id": "view-in-github",
        "colab_type": "text"
      },
      "source": [
        "<a href=\"https://colab.research.google.com/github/santiagonajera/Optimizacion-Global-Inventarios/blob/main/Clase_Inventario_9abril25.ipynb\" target=\"_parent\"><img src=\"https://colab.research.google.com/assets/colab-badge.svg\" alt=\"Open In Colab\"/></a>"
      ]
    },
    {
      "cell_type": "code",
      "execution_count": 1,
      "metadata": {
        "colab": {
          "base_uri": "https://localhost:8080/"
        },
        "id": "-RH2CxGSIx1_",
        "outputId": "76fac9b0-b83e-425b-e440-999764b9b852"
      },
      "outputs": [
        {
          "output_type": "stream",
          "name": "stdout",
          "text": [
            "Los últimos 18 valores son:\n",
            "2023-10-01 00:00:00    24102\n",
            "2023-11-01 00:00:00    45453\n",
            "2023-12-01 00:00:00    26662\n",
            "2024-01-01 00:00:00    29429\n",
            "2024-02-01 00:00:00    26082\n",
            "2024-03-01 00:00:00    28370\n",
            "2024-04-01 00:00:00    32154\n",
            "2024-05-01 00:00:00    31267\n",
            "2024-06-01 00:00:00    30460\n",
            "2024-07-01 00:00:00    30684\n",
            "2024-08-01 00:00:00    25982\n",
            "2024-09-01 00:00:00    27429\n",
            "2024-10-01 00:00:00    24625\n",
            "2024-11-01 00:00:00    46403\n",
            "2024-12-01 00:00:00    29200\n",
            "2025-01-01 00:00:00    31911\n",
            "2025-02-01 00:00:00    28544\n",
            "2025-03-01 00:00:00    31113\n",
            "Name: 0, dtype: int64\n",
            "\n",
            "El promedio de los últimos 18 meses es: 30548.33\n"
          ]
        }
      ],
      "source": [
        "import pandas as pd\n",
        "import numpy as np\n",
        "from io import BytesIO\n",
        "import requests\n",
        "\n",
        "# Descargar el archivo Excel desde GitHub\n",
        "url = \"https://github.com/santiagonajera/Optimizacion-Global-Inventarios/raw/refs/heads/main/Clases-ecotec.xlsx\"\n",
        "response = requests.get(url)\n",
        "excel_file = BytesIO(response.content)\n",
        "\n",
        "# Leer la hoja \"Historico\"\n",
        "df = pd.read_excel(excel_file, sheet_name=\"Historico\")\n",
        "\n",
        "# Seleccionar la fila 2 (ITEM 1) - asumiendo que la primera fila es el encabezado\n",
        "# Saltamos la primera fila (encabezado) y tomamos la segunda fila (índice 0 en Python)\n",
        "fila_datos = df.iloc[0, 1:]  # Excluimos la columna ITEM\n",
        "\n",
        "# Convertir a valores numéricos y eliminar posibles NaN\n",
        "valores = pd.to_numeric(fila_datos, errors='coerce').dropna()\n",
        "\n",
        "# Tomar los últimos 18 valores\n",
        "ultimos_18 = valores[-18:]\n",
        "\n",
        "# Calcular el promedio\n",
        "promedio = np.mean(ultimos_18)\n",
        "\n",
        "print(\"Los últimos 18 valores son:\")\n",
        "print(ultimos_18)\n",
        "print(f\"\\nEl promedio de los últimos 18 meses es: {promedio:.2f}\")"
      ]
    },
    {
      "cell_type": "code",
      "source": [
        "import pandas as pd\n",
        "import numpy as np\n",
        "from io import BytesIO\n",
        "import requests\n",
        "\n",
        "# Descargar el archivo Excel\n",
        "url = \"https://github.com/santiagonajera/Optimizacion-Global-Inventarios/raw/refs/heads/main/Clases-ecotec.xlsx\"\n",
        "response = requests.get(url)\n",
        "excel_file = BytesIO(response.content)\n",
        "\n",
        "# Leer la hoja \"Historico\"\n",
        "df = pd.read_excel(excel_file, sheet_name=\"Historico\")\n",
        "\n",
        "# Seleccionar la fila 2 (ITEM 1)\n",
        "fila_datos = df.iloc[0, 1:]  # Excluye columna ITEM\n",
        "\n",
        "# Convertir a numéricos y eliminar NaN\n",
        "valores = pd.to_numeric(fila_datos, errors='coerce').dropna()\n",
        "\n",
        "# Tomar últimos 18 valores\n",
        "ultimos_18 = valores[-18:]\n",
        "\n",
        "# Calcular métricas\n",
        "promedio = np.mean(ultimos_18)\n",
        "desviacion = np.std(ultimos_18, ddof=1)  # Desviación estándar muestral\n",
        "\n",
        "# Mostrar solo resultados\n",
        "print(f\"Promedio últimos 18 meses: {promedio:.2f}\")\n",
        "print(f\"Desviación estándar últimos 18 meses: {desviacion:.2f}\")"
      ],
      "metadata": {
        "colab": {
          "base_uri": "https://localhost:8080/"
        },
        "id": "Y2hYF0UbLpyt",
        "outputId": "ace8026f-6517-4378-cb4f-e0776b169ae2"
      },
      "execution_count": 2,
      "outputs": [
        {
          "output_type": "stream",
          "name": "stdout",
          "text": [
            "Promedio últimos 18 meses: 30548.33\n",
            "Desviación estándar últimos 18 meses: 6101.71\n"
          ]
        }
      ]
    },
    {
      "cell_type": "code",
      "source": [
        "import pandas as pd\n",
        "import numpy as np\n",
        "from io import BytesIO\n",
        "import requests\n",
        "\n",
        "# Descargar el archivo Excel\n",
        "url = \"https://github.com/santiagonajera/Optimizacion-Global-Inventarios/raw/refs/heads/main/Clases-ecotec.xlsx\"\n",
        "response = requests.get(url)\n",
        "excel_file = BytesIO(response.content)\n",
        "\n",
        "# --- Cálculo para hoja Histórico ---\n",
        "df_historico = pd.read_excel(excel_file, sheet_name=\"Historico\")\n",
        "\n",
        "# Procesar fila 2 (ITEM 1)\n",
        "fila_historico = df_historico.iloc[0, 1:]  # Excluye columna ITEM\n",
        "valores_historico = pd.to_numeric(fila_historico, errors='coerce').dropna()\n",
        "ultimos_18 = valores_historico[-18:]\n",
        "\n",
        "promedio_historico = np.mean(ultimos_18)\n",
        "desviacion_historico = np.std(ultimos_18, ddof=1)\n",
        "\n",
        "# --- Cálculo para hoja LeadTime-Dias ---\n",
        "df_leadtime = pd.read_excel(excel_file, sheet_name=\"LeadTime-Dias\")\n",
        "\n",
        "# Procesar fila 2 (ITEM 1)\n",
        "fila_leadtime = df_leadtime.iloc[0, 1:]  # Excluye columna ITEM\n",
        "valores_leadtime = pd.to_numeric(fila_leadtime.str.replace(',','.'), errors='coerce').dropna()\n",
        "ultimos_6_leadtime = valores_leadtime[-6:]\n",
        "\n",
        "leadtime_promedio = np.mean(ultimos_6_leadtime)\n",
        "\n",
        "# --- Mostrar resultados ---\n",
        "print(\"RESULTADOS PARA ITEM 1\")\n",
        "print(\"----------------------\")\n",
        "print(f\"Promedio últimos 18 meses (Historico): {promedio_historico:.2f}\")\n",
        "print(f\"Desviación estándar últimos 18 meses: {desviacion_historico:.2f}\")\n",
        "print(f\"Lead Time promedio (últimos 6 datos): {leadtime_promedio:.2f} días\")"
      ],
      "metadata": {
        "colab": {
          "base_uri": "https://localhost:8080/",
          "height": 356
        },
        "id": "1vpmuu3PNTI9",
        "outputId": "b58c80a0-cc31-4f87-d2f7-3e76fc0606ac"
      },
      "execution_count": 3,
      "outputs": [
        {
          "output_type": "error",
          "ename": "AttributeError",
          "evalue": "Can only use .str accessor with string values!",
          "traceback": [
            "\u001b[0;31m---------------------------------------------------------------------------\u001b[0m",
            "\u001b[0;31mAttributeError\u001b[0m                            Traceback (most recent call last)",
            "\u001b[0;32m<ipython-input-3-f3b010948715>\u001b[0m in \u001b[0;36m<cell line: 0>\u001b[0;34m()\u001b[0m\n\u001b[1;32m     25\u001b[0m \u001b[0;31m# Procesar fila 2 (ITEM 1)\u001b[0m\u001b[0;34m\u001b[0m\u001b[0;34m\u001b[0m\u001b[0m\n\u001b[1;32m     26\u001b[0m \u001b[0mfila_leadtime\u001b[0m \u001b[0;34m=\u001b[0m \u001b[0mdf_leadtime\u001b[0m\u001b[0;34m.\u001b[0m\u001b[0miloc\u001b[0m\u001b[0;34m[\u001b[0m\u001b[0;36m0\u001b[0m\u001b[0;34m,\u001b[0m \u001b[0;36m1\u001b[0m\u001b[0;34m:\u001b[0m\u001b[0;34m]\u001b[0m  \u001b[0;31m# Excluye columna ITEM\u001b[0m\u001b[0;34m\u001b[0m\u001b[0;34m\u001b[0m\u001b[0m\n\u001b[0;32m---> 27\u001b[0;31m \u001b[0mvalores_leadtime\u001b[0m \u001b[0;34m=\u001b[0m \u001b[0mpd\u001b[0m\u001b[0;34m.\u001b[0m\u001b[0mto_numeric\u001b[0m\u001b[0;34m(\u001b[0m\u001b[0mfila_leadtime\u001b[0m\u001b[0;34m.\u001b[0m\u001b[0mstr\u001b[0m\u001b[0;34m.\u001b[0m\u001b[0mreplace\u001b[0m\u001b[0;34m(\u001b[0m\u001b[0;34m','\u001b[0m\u001b[0;34m,\u001b[0m\u001b[0;34m'.'\u001b[0m\u001b[0;34m)\u001b[0m\u001b[0;34m,\u001b[0m \u001b[0merrors\u001b[0m\u001b[0;34m=\u001b[0m\u001b[0;34m'coerce'\u001b[0m\u001b[0;34m)\u001b[0m\u001b[0;34m.\u001b[0m\u001b[0mdropna\u001b[0m\u001b[0;34m(\u001b[0m\u001b[0;34m)\u001b[0m\u001b[0;34m\u001b[0m\u001b[0;34m\u001b[0m\u001b[0m\n\u001b[0m\u001b[1;32m     28\u001b[0m \u001b[0multimos_6_leadtime\u001b[0m \u001b[0;34m=\u001b[0m \u001b[0mvalores_leadtime\u001b[0m\u001b[0;34m[\u001b[0m\u001b[0;34m-\u001b[0m\u001b[0;36m6\u001b[0m\u001b[0;34m:\u001b[0m\u001b[0;34m]\u001b[0m\u001b[0;34m\u001b[0m\u001b[0;34m\u001b[0m\u001b[0m\n\u001b[1;32m     29\u001b[0m \u001b[0;34m\u001b[0m\u001b[0m\n",
            "\u001b[0;32m/usr/local/lib/python3.11/dist-packages/pandas/core/generic.py\u001b[0m in \u001b[0;36m__getattr__\u001b[0;34m(self, name)\u001b[0m\n\u001b[1;32m   6297\u001b[0m         ):\n\u001b[1;32m   6298\u001b[0m             \u001b[0;32mreturn\u001b[0m \u001b[0mself\u001b[0m\u001b[0;34m[\u001b[0m\u001b[0mname\u001b[0m\u001b[0;34m]\u001b[0m\u001b[0;34m\u001b[0m\u001b[0;34m\u001b[0m\u001b[0m\n\u001b[0;32m-> 6299\u001b[0;31m         \u001b[0;32mreturn\u001b[0m \u001b[0mobject\u001b[0m\u001b[0;34m.\u001b[0m\u001b[0m__getattribute__\u001b[0m\u001b[0;34m(\u001b[0m\u001b[0mself\u001b[0m\u001b[0;34m,\u001b[0m \u001b[0mname\u001b[0m\u001b[0;34m)\u001b[0m\u001b[0;34m\u001b[0m\u001b[0;34m\u001b[0m\u001b[0m\n\u001b[0m\u001b[1;32m   6300\u001b[0m \u001b[0;34m\u001b[0m\u001b[0m\n\u001b[1;32m   6301\u001b[0m     \u001b[0;34m@\u001b[0m\u001b[0mfinal\u001b[0m\u001b[0;34m\u001b[0m\u001b[0;34m\u001b[0m\u001b[0m\n",
            "\u001b[0;32m/usr/local/lib/python3.11/dist-packages/pandas/core/accessor.py\u001b[0m in \u001b[0;36m__get__\u001b[0;34m(self, obj, cls)\u001b[0m\n\u001b[1;32m    222\u001b[0m             \u001b[0;31m# we're accessing the attribute of the class, i.e., Dataset.geo\u001b[0m\u001b[0;34m\u001b[0m\u001b[0;34m\u001b[0m\u001b[0m\n\u001b[1;32m    223\u001b[0m             \u001b[0;32mreturn\u001b[0m \u001b[0mself\u001b[0m\u001b[0;34m.\u001b[0m\u001b[0m_accessor\u001b[0m\u001b[0;34m\u001b[0m\u001b[0;34m\u001b[0m\u001b[0m\n\u001b[0;32m--> 224\u001b[0;31m         \u001b[0maccessor_obj\u001b[0m \u001b[0;34m=\u001b[0m \u001b[0mself\u001b[0m\u001b[0;34m.\u001b[0m\u001b[0m_accessor\u001b[0m\u001b[0;34m(\u001b[0m\u001b[0mobj\u001b[0m\u001b[0;34m)\u001b[0m\u001b[0;34m\u001b[0m\u001b[0;34m\u001b[0m\u001b[0m\n\u001b[0m\u001b[1;32m    225\u001b[0m         \u001b[0;31m# Replace the property with the accessor object. Inspired by:\u001b[0m\u001b[0;34m\u001b[0m\u001b[0;34m\u001b[0m\u001b[0m\n\u001b[1;32m    226\u001b[0m         \u001b[0;31m# https://www.pydanny.com/cached-property.html\u001b[0m\u001b[0;34m\u001b[0m\u001b[0;34m\u001b[0m\u001b[0m\n",
            "\u001b[0;32m/usr/local/lib/python3.11/dist-packages/pandas/core/strings/accessor.py\u001b[0m in \u001b[0;36m__init__\u001b[0;34m(self, data)\u001b[0m\n\u001b[1;32m    189\u001b[0m         \u001b[0;32mfrom\u001b[0m \u001b[0mpandas\u001b[0m\u001b[0;34m.\u001b[0m\u001b[0mcore\u001b[0m\u001b[0;34m.\u001b[0m\u001b[0marrays\u001b[0m\u001b[0;34m.\u001b[0m\u001b[0mstring_\u001b[0m \u001b[0;32mimport\u001b[0m \u001b[0mStringDtype\u001b[0m\u001b[0;34m\u001b[0m\u001b[0;34m\u001b[0m\u001b[0m\n\u001b[1;32m    190\u001b[0m \u001b[0;34m\u001b[0m\u001b[0m\n\u001b[0;32m--> 191\u001b[0;31m         \u001b[0mself\u001b[0m\u001b[0;34m.\u001b[0m\u001b[0m_inferred_dtype\u001b[0m \u001b[0;34m=\u001b[0m \u001b[0mself\u001b[0m\u001b[0;34m.\u001b[0m\u001b[0m_validate\u001b[0m\u001b[0;34m(\u001b[0m\u001b[0mdata\u001b[0m\u001b[0;34m)\u001b[0m\u001b[0;34m\u001b[0m\u001b[0;34m\u001b[0m\u001b[0m\n\u001b[0m\u001b[1;32m    192\u001b[0m         \u001b[0mself\u001b[0m\u001b[0;34m.\u001b[0m\u001b[0m_is_categorical\u001b[0m \u001b[0;34m=\u001b[0m \u001b[0misinstance\u001b[0m\u001b[0;34m(\u001b[0m\u001b[0mdata\u001b[0m\u001b[0;34m.\u001b[0m\u001b[0mdtype\u001b[0m\u001b[0;34m,\u001b[0m \u001b[0mCategoricalDtype\u001b[0m\u001b[0;34m)\u001b[0m\u001b[0;34m\u001b[0m\u001b[0;34m\u001b[0m\u001b[0m\n\u001b[1;32m    193\u001b[0m         \u001b[0mself\u001b[0m\u001b[0;34m.\u001b[0m\u001b[0m_is_string\u001b[0m \u001b[0;34m=\u001b[0m \u001b[0misinstance\u001b[0m\u001b[0;34m(\u001b[0m\u001b[0mdata\u001b[0m\u001b[0;34m.\u001b[0m\u001b[0mdtype\u001b[0m\u001b[0;34m,\u001b[0m \u001b[0mStringDtype\u001b[0m\u001b[0;34m)\u001b[0m\u001b[0;34m\u001b[0m\u001b[0;34m\u001b[0m\u001b[0m\n",
            "\u001b[0;32m/usr/local/lib/python3.11/dist-packages/pandas/core/strings/accessor.py\u001b[0m in \u001b[0;36m_validate\u001b[0;34m(data)\u001b[0m\n\u001b[1;32m    243\u001b[0m \u001b[0;34m\u001b[0m\u001b[0m\n\u001b[1;32m    244\u001b[0m         \u001b[0;32mif\u001b[0m \u001b[0minferred_dtype\u001b[0m \u001b[0;32mnot\u001b[0m \u001b[0;32min\u001b[0m \u001b[0mallowed_types\u001b[0m\u001b[0;34m:\u001b[0m\u001b[0;34m\u001b[0m\u001b[0;34m\u001b[0m\u001b[0m\n\u001b[0;32m--> 245\u001b[0;31m             \u001b[0;32mraise\u001b[0m \u001b[0mAttributeError\u001b[0m\u001b[0;34m(\u001b[0m\u001b[0;34m\"Can only use .str accessor with string values!\"\u001b[0m\u001b[0;34m)\u001b[0m\u001b[0;34m\u001b[0m\u001b[0;34m\u001b[0m\u001b[0m\n\u001b[0m\u001b[1;32m    246\u001b[0m         \u001b[0;32mreturn\u001b[0m \u001b[0minferred_dtype\u001b[0m\u001b[0;34m\u001b[0m\u001b[0;34m\u001b[0m\u001b[0m\n\u001b[1;32m    247\u001b[0m \u001b[0;34m\u001b[0m\u001b[0m\n",
            "\u001b[0;31mAttributeError\u001b[0m: Can only use .str accessor with string values!"
          ]
        }
      ]
    },
    {
      "cell_type": "code",
      "source": [
        "import pandas as pd\n",
        "import numpy as np\n",
        "from io import BytesIO\n",
        "import requests\n",
        "\n",
        "# Descargar el archivo Excel\n",
        "url = \"https://github.com/santiagonajera/Optimizacion-Global-Inventarios/raw/refs/heads/main/Clases-ecotec.xlsx\"\n",
        "response = requests.get(url)\n",
        "excel_file = BytesIO(response.content)\n",
        "\n",
        "# --- Cálculo para hoja Histórico ---\n",
        "df_historico = pd.read_excel(excel_file, sheet_name=\"Historico\")\n",
        "\n",
        "# Procesar fila 2 (ITEM 1)\n",
        "fila_historico = df_historico.iloc[0, 1:]  # Excluye columna ITEM\n",
        "valores_historico = pd.to_numeric(fila_historico, errors='coerce').dropna()\n",
        "ultimos_18 = valores_historico[-18:]\n",
        "\n",
        "promedio_historico = np.mean(ultimos_18)\n",
        "desviacion_historico = np.std(ultimos_18, ddof=1)\n",
        "\n",
        "# --- Cálculo para hoja LeadTime-Dias ---\n",
        "df_leadtime = pd.read_excel(excel_file, sheet_name=\"LeadTime-Dias\")\n",
        "\n",
        "# Procesar fila 2 (ITEM 1)\n",
        "fila_leadtime = df_leadtime.iloc[0, 1:]  # Excluye columna ITEM\n",
        "\n",
        "# Solución al error: Convertir primero a string y luego reemplazar comas\n",
        "valores_str = fila_leadtime.astype(str).str.replace(',','.')\n",
        "valores_leadtime = pd.to_numeric(valores_str, errors='coerce').dropna()\n",
        "ultimos_6_leadtime = valores_leadtime[-6:]\n",
        "\n",
        "leadtime_promedio = np.mean(ultimos_6_leadtime)\n",
        "\n",
        "# --- Mostrar resultados ---\n",
        "print(\"RESULTADOS PARA ITEM 1\")\n",
        "print(\"----------------------\")\n",
        "print(f\"Promedio últimos 18 meses (Historico): {promedio_historico:.2f}\")\n",
        "print(f\"Desviación estándar últimos 18 meses: {desviacion_historico:.2f}\")\n",
        "print(f\"Lead Time promedio (últimos 6 datos): {leadtime_promedio:.2f} días\")"
      ],
      "metadata": {
        "colab": {
          "base_uri": "https://localhost:8080/"
        },
        "id": "1Zo6wbwGNmB9",
        "outputId": "0c22ee43-e905-4baf-d09e-6fecdb81399b"
      },
      "execution_count": 4,
      "outputs": [
        {
          "output_type": "stream",
          "name": "stdout",
          "text": [
            "RESULTADOS PARA ITEM 1\n",
            "----------------------\n",
            "Promedio últimos 18 meses (Historico): 30548.33\n",
            "Desviación estándar últimos 18 meses: 6101.71\n",
            "Lead Time promedio (últimos 6 datos): 7.46 días\n"
          ]
        }
      ]
    },
    {
      "cell_type": "code",
      "source": [
        "import pandas as pd\n",
        "import numpy as np\n",
        "from io import BytesIO\n",
        "import requests\n",
        "from scipy import stats\n",
        "\n",
        "# Descargar el archivo Excel\n",
        "url = \"https://github.com/santiagonajera/Optimizacion-Global-Inventarios/raw/refs/heads/main/Clases-ecotec.xlsx\"\n",
        "response = requests.get(url)\n",
        "excel_file = BytesIO(response.content)\n",
        "\n",
        "# --- Parámetros de configuración ---\n",
        "NivelServicio = 0.95  # 95% de nivel de servicio\n",
        "\n",
        "# Calcular el factor Z correspondiente al nivel de servicio\n",
        "FactorNServicio = stats.norm.ppf(NivelServicio)\n",
        "\n",
        "# --- Cálculo para hoja Histórico ---\n",
        "df_historico = pd.read_excel(excel_file, sheet_name=\"Historico\")\n",
        "\n",
        "# Procesar fila 2 (ITEM 1)\n",
        "fila_historico = df_historico.iloc[0, 1:]  # Excluye columna ITEM\n",
        "valores_historico = pd.to_numeric(fila_historico, errors='coerce').dropna()\n",
        "ultimos_18 = valores_historico[-18:]\n",
        "\n",
        "promedio_historico = np.mean(ultimos_18)\n",
        "desviacion_historico = np.std(ultimos_18, ddof=1)\n",
        "\n",
        "# --- Cálculo para hoja LeadTime-Dias ---\n",
        "df_leadtime = pd.read_excel(excel_file, sheet_name=\"LeadTime-Dias\")\n",
        "\n",
        "# Procesar fila 2 (ITEM 1)\n",
        "fila_leadtime = df_leadtime.iloc[0, 1:]  # Excluye columna ITEM\n",
        "\n",
        "# Convertir valores numéricos con comas decimales\n",
        "valores_str = fila_leadtime.astype(str).str.replace(',','.')\n",
        "valores_leadtime = pd.to_numeric(valores_str, errors='coerce').dropna()\n",
        "ultimos_6_leadtime = valores_leadtime[-6:]\n",
        "\n",
        "leadtime_promedio = np.mean(ultimos_6_leadtime)\n",
        "leadtime_desviacion = np.std(ultimos_6_leadtime, ddof=1)\n",
        "\n",
        "# --- Mostrar resultados ---\n",
        "print(\"RESULTADOS PARA ITEM 1\")\n",
        "print(\"----------------------\")\n",
        "print(f\"Promedio últimos 18 meses (Historico): {promedio_historico:.2f}\")\n",
        "print(f\"Desviación estándar últimos 18 meses: {desviacion_historico:.2f}\")\n",
        "print(f\"Lead Time promedio (últimos 6 datos): {leadtime_promedio:.2f} días\")\n",
        "print(f\"Desviación estándar Lead Time: {leadtime_desviacion:.2f} días\")\n",
        "print(\"\\nPARÁMETROS DE SERVICIO\")\n",
        "print(\"----------------------\")\n",
        "print(f\"Nivel de Servicio configurado: {NivelServicio*100:.0f}%\")\n",
        "print(f\"Factor Z correspondiente (FactorNServicio): {FactorNServicio:.4f}\")"
      ],
      "metadata": {
        "id": "3HlQjT-gOdNN",
        "outputId": "fcfe0cdd-69fe-4bd5-e708-c51f44a75890",
        "colab": {
          "base_uri": "https://localhost:8080/"
        }
      },
      "execution_count": 5,
      "outputs": [
        {
          "output_type": "stream",
          "name": "stdout",
          "text": [
            "RESULTADOS PARA ITEM 1\n",
            "----------------------\n",
            "Promedio últimos 18 meses (Historico): 30548.33\n",
            "Desviación estándar últimos 18 meses: 6101.71\n",
            "Lead Time promedio (últimos 6 datos): 7.46 días\n",
            "Desviación estándar Lead Time: 0.54 días\n",
            "\n",
            "PARÁMETROS DE SERVICIO\n",
            "----------------------\n",
            "Nivel de Servicio configurado: 95%\n",
            "Factor Z correspondiente (FactorNServicio): 1.6449\n"
          ]
        }
      ]
    }
  ]
}
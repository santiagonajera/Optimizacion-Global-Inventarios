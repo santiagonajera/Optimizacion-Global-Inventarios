{
  "nbformat": 4,
  "nbformat_minor": 0,
  "metadata": {
    "colab": {
      "provenance": [],
      "authorship_tag": "ABX9TyNFMdJTT/xtrYili7CbeTu0",
      "include_colab_link": true
    },
    "kernelspec": {
      "name": "python3",
      "display_name": "Python 3"
    },
    "language_info": {
      "name": "python"
    }
  },
  "cells": [
    {
      "cell_type": "markdown",
      "metadata": {
        "id": "view-in-github",
        "colab_type": "text"
      },
      "source": [
        "<a href=\"https://colab.research.google.com/github/santiagonajera/Optimizacion-Global-Inventarios/blob/main/ABC.ipynb\" target=\"_parent\"><img src=\"https://colab.research.google.com/assets/colab-badge.svg\" alt=\"Open In Colab\"/></a>"
      ]
    },
    {
      "cell_type": "code",
      "execution_count": 1,
      "metadata": {
        "colab": {
          "base_uri": "https://localhost:8080/"
        },
        "id": "NMmFj31VV54t",
        "outputId": "dbb489ce-2b89-445a-862b-7f1c21b34560"
      },
      "outputs": [
        {
          "output_type": "stream",
          "name": "stdout",
          "text": [
            "Resumen de clasificación ABC:\n",
            "         ITEM  venta_dolares  contribucion  contribucion_acumulada  \\\n",
            "11    ITEM 12     3190090.80      0.790204                0.790204   \n",
            "1      ITEM 2     2881611.78      0.713792                1.503996   \n",
            "0      ITEM 1     2751451.56      0.681551                2.185547   \n",
            "6      ITEM 7     2664927.45      0.660118                2.845665   \n",
            "44    ITEM 45     2455450.98      0.608230                3.453895   \n",
            "..        ...            ...           ...                     ...   \n",
            "88    ITEM 89      720814.72      0.178550               99.357351   \n",
            "146  ITEM 147      714271.70      0.176929               99.534280   \n",
            "116  ITEM 117      701536.32      0.173775               99.708055   \n",
            "114  ITEM 115      697497.90      0.172774               99.880829   \n",
            "27    ITEM 28      481097.96      0.119171              100.000000   \n",
            "\n",
            "    clasificacion_ABC  \n",
            "11                  A  \n",
            "1                   A  \n",
            "0                   A  \n",
            "6                   A  \n",
            "44                  A  \n",
            "..                ...  \n",
            "88                  C  \n",
            "146                 C  \n",
            "116                 C  \n",
            "114                 C  \n",
            "27                  C  \n",
            "\n",
            "[300 rows x 5 columns]\n",
            "\n",
            "Distribución de categorías:\n",
            "clasificacion_ABC\n",
            "A    144\n",
            "C     88\n",
            "B     68\n",
            "Name: count, dtype: int64\n"
          ]
        }
      ],
      "source": [
        "import pandas as pd\n",
        "import numpy as np\n",
        "\n",
        "# Cargar los datos desde el archivo Excel\n",
        "url = \"https://github.com/santiagonajera/Optimizacion-Global-Inventarios/raw/refs/heads/main/Clases-Keisser2026.xlsx\"\n",
        "df_forecast = pd.read_excel(url, sheet_name='Forecast')\n",
        "df_precios = pd.read_excel(url, sheet_name='Precios-Costos')\n",
        "\n",
        "# Limpiar y preparar datos de forecast\n",
        "df_forecast.columns = ['ITEM'] + [f'mes_{i+1}' for i in range(12)]\n",
        "df_forecast['ITEM'] = df_forecast['ITEM'].str.strip()\n",
        "df_forecast['venta_total_2026'] = df_forecast.iloc[:, 1:13].sum(axis=1)\n",
        "\n",
        "# Limpiar y preparar datos de precios\n",
        "df_precios['ITEM'] = df_precios['ITEM'].str.strip()\n",
        "df_precios['Precio'] = df_precios['Precio'].replace('[\\$,]', '', regex=True).astype(float)\n",
        "\n",
        "# Combinar ambos datasets\n",
        "df_merged = pd.merge(df_forecast[['ITEM', 'venta_total_2026']],\n",
        "                     df_precios[['ITEM', 'Precio']],\n",
        "                     on='ITEM',\n",
        "                     how='inner')\n",
        "\n",
        "# Calcular venta en dólares\n",
        "df_merged['venta_dolares'] = df_merged['venta_total_2026'] * df_merged['Precio']\n",
        "\n",
        "# Calcular contribución y clasificación ABC\n",
        "df_merged = df_merged.sort_values('venta_dolares', ascending=False)\n",
        "df_merged['contribucion'] = df_merged['venta_dolares'] / df_merged['venta_dolares'].sum() * 100\n",
        "df_merged['contribucion_acumulada'] = df_merged['contribucion'].cumsum()\n",
        "\n",
        "# Asignar clasificación ABC\n",
        "conditions = [\n",
        "    df_merged['contribucion_acumulada'] <= 60,\n",
        "    (df_merged['contribucion_acumulada'] > 60) & (df_merged['contribucion_acumulada'] <= 80),\n",
        "    df_merged['contribucion_acumulada'] > 80\n",
        "]\n",
        "choices = ['A', 'B', 'C']\n",
        "df_merged['clasificacion_ABC'] = np.select(conditions, choices, default='C')\n",
        "\n",
        "# Resultados finales\n",
        "resultado_final = df_merged[['ITEM', 'venta_dolares', 'contribucion',\n",
        "                             'contribucion_acumulada', 'clasificacion_ABC']]\n",
        "\n",
        "print(\"Resumen de clasificación ABC:\")\n",
        "print(resultado_final)\n",
        "\n",
        "print(\"\\nDistribución de categorías:\")\n",
        "print(resultado_final['clasificacion_ABC'].value_counts())\n"
      ]
    }
  ]
}